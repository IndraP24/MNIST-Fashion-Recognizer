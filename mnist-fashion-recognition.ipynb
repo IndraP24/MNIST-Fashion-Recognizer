{
 "cells": [
  {
   "cell_type": "markdown",
   "metadata": {
    "id": "4DYOYMLgC4hJ",
    "papermill": {
     "duration": 0.031866,
     "end_time": "2020-12-05T11:42:20.061668",
     "exception": false,
     "start_time": "2020-12-05T11:42:20.029802",
     "status": "completed"
    },
    "tags": []
   },
   "source": [
    "# Fashion Recognizer with CNN using tensorflow"
   ]
  },
  {
   "cell_type": "markdown",
   "metadata": {
    "papermill": {
     "duration": 0.031012,
     "end_time": "2020-12-05T11:42:20.124166",
     "exception": false,
     "start_time": "2020-12-05T11:42:20.093154",
     "status": "completed"
    },
    "tags": []
   },
   "source": [
    "Revealing file directories"
   ]
  },
  {
   "cell_type": "code",
   "execution_count": 1,
   "metadata": {
    "execution": {
     "iopub.execute_input": "2020-12-05T11:42:20.191064Z",
     "iopub.status.busy": "2020-12-05T11:42:20.190511Z",
     "iopub.status.idle": "2020-12-05T11:42:20.201345Z",
     "shell.execute_reply": "2020-12-05T11:42:20.200601Z"
    },
    "papermill": {
     "duration": 0.045886,
     "end_time": "2020-12-05T11:42:20.201458",
     "exception": false,
     "start_time": "2020-12-05T11:42:20.155572",
     "status": "completed"
    },
    "tags": []
   },
   "outputs": [
    {
     "name": "stdout",
     "output_type": "stream",
     "text": [
      "/kaggle/input/fashionmnist/t10k-labels-idx1-ubyte\n",
      "/kaggle/input/fashionmnist/t10k-images-idx3-ubyte\n",
      "/kaggle/input/fashionmnist/fashion-mnist_test.csv\n",
      "/kaggle/input/fashionmnist/fashion-mnist_train.csv\n",
      "/kaggle/input/fashionmnist/train-labels-idx1-ubyte\n",
      "/kaggle/input/fashionmnist/train-images-idx3-ubyte\n"
     ]
    }
   ],
   "source": [
    "import os\n",
    "for dirname, _, filenames in os.walk('/kaggle/input'):\n",
    "    for filename in filenames:\n",
    "        print(os.path.join(dirname, filename))"
   ]
  },
  {
   "cell_type": "markdown",
   "metadata": {
    "id": "XCuTJtmLIbdX",
    "papermill": {
     "duration": 0.03173,
     "end_time": "2020-12-05T11:42:20.266338",
     "exception": false,
     "start_time": "2020-12-05T11:42:20.234608",
     "status": "completed"
    },
    "tags": []
   },
   "source": [
    "The total deep learning or machhine learning project can be done in following steps :\n",
    "\n",
    "         1. Importing required libraries.\n",
    "         2. Reading the data and primary visualization\n",
    "         3. Preprocessing\n",
    "         4. Creating X and y\n",
    "         5. Model Generation\n",
    "         6. Training / Fitting model with data\n",
    "         7. Model evaluation\n",
    "         8. Creating prediction data\n",
    "         9. Accuracy checking \n",
    "                           "
   ]
  },
  {
   "cell_type": "markdown",
   "metadata": {
    "id": "YSm4ajutJ3r6",
    "papermill": {
     "duration": 0.032074,
     "end_time": "2020-12-05T11:42:20.331372",
     "exception": false,
     "start_time": "2020-12-05T11:42:20.299298",
     "status": "completed"
    },
    "tags": []
   },
   "source": [
    "## Libraries"
   ]
  },
  {
   "cell_type": "code",
   "execution_count": 2,
   "metadata": {
    "execution": {
     "iopub.execute_input": "2020-12-05T11:42:20.406538Z",
     "iopub.status.busy": "2020-12-05T11:42:20.405625Z",
     "iopub.status.idle": "2020-12-05T11:42:26.689739Z",
     "shell.execute_reply": "2020-12-05T11:42:26.688831Z"
    },
    "id": "OtM9q5-2HT_h",
    "outputId": "56ccd1f8-8ba0-4fb0-b2ea-1169e0f68f75",
    "papermill": {
     "duration": 6.326597,
     "end_time": "2020-12-05T11:42:26.689877",
     "exception": false,
     "start_time": "2020-12-05T11:42:20.363280",
     "status": "completed"
    },
    "tags": []
   },
   "outputs": [
    {
     "name": "stdout",
     "output_type": "stream",
     "text": [
      "version of tensorflow :  2.3.1\n"
     ]
    }
   ],
   "source": [
    "# main libraries\n",
    "import tensorflow as tf\n",
    "from tensorflow.keras import Sequential\n",
    "\n",
    "from tensorflow.keras.layers import Dense,Conv2D,MaxPool2D,Flatten,Dropout,BatchNormalization\n",
    "from tensorflow.keras.optimizers import Adam\n",
    "print('version of tensorflow : ',tf.__version__)\n",
    "\n",
    "# supporting libraries\n",
    "import numpy as np\n",
    "import pandas as pd\n",
    "import seaborn as sns\n",
    "import matplotlib.pyplot as plt\n",
    "from sklearn.model_selection import train_test_split\n",
    "from sklearn.preprocessing import StandardScaler\n",
    "\n",
    "from sklearn.model_selection import train_test_split\n",
    "from sklearn.preprocessing import StandardScaler\n",
    "from sklearn.feature_selection import VarianceThreshold"
   ]
  },
  {
   "cell_type": "code",
   "execution_count": 3,
   "metadata": {
    "execution": {
     "iopub.execute_input": "2020-12-05T11:42:26.794595Z",
     "iopub.status.busy": "2020-12-05T11:42:26.793677Z",
     "iopub.status.idle": "2020-12-05T11:42:26.832845Z",
     "shell.execute_reply": "2020-12-05T11:42:26.832100Z"
    },
    "id": "YNGA9RQ6aNCz",
    "papermill": {
     "duration": 0.093594,
     "end_time": "2020-12-05T11:42:26.833012",
     "exception": false,
     "start_time": "2020-12-05T11:42:26.739418",
     "status": "completed"
    },
    "tags": []
   },
   "outputs": [],
   "source": [
    "# for confusion matrix plotting\n",
    "from mlxtend.plotting import plot_confusion_matrix\n",
    "from sklearn.metrics import multilabel_confusion_matrix,confusion_matrix"
   ]
  },
  {
   "cell_type": "markdown",
   "metadata": {
    "id": "a0YsDCoAKFro",
    "papermill": {
     "duration": 0.050144,
     "end_time": "2020-12-05T11:42:26.932779",
     "exception": false,
     "start_time": "2020-12-05T11:42:26.882635",
     "status": "completed"
    },
    "tags": []
   },
   "source": [
    "## Reading the data and primary visualization"
   ]
  },
  {
   "cell_type": "code",
   "execution_count": 4,
   "metadata": {
    "execution": {
     "iopub.execute_input": "2020-12-05T11:42:27.038315Z",
     "iopub.status.busy": "2020-12-05T11:42:27.037683Z",
     "iopub.status.idle": "2020-12-05T11:42:32.679499Z",
     "shell.execute_reply": "2020-12-05T11:42:32.678761Z"
    },
    "id": "7umwdrmWH4oc",
    "papermill": {
     "duration": 5.697459,
     "end_time": "2020-12-05T11:42:32.679614",
     "exception": false,
     "start_time": "2020-12-05T11:42:26.982155",
     "status": "completed"
    },
    "tags": []
   },
   "outputs": [],
   "source": [
    "train=pd.read_csv('/kaggle/input/fashionmnist/fashion-mnist_train.csv')"
   ]
  },
  {
   "cell_type": "code",
   "execution_count": 5,
   "metadata": {
    "execution": {
     "iopub.execute_input": "2020-12-05T11:42:32.756054Z",
     "iopub.status.busy": "2020-12-05T11:42:32.755420Z",
     "iopub.status.idle": "2020-12-05T11:42:32.772451Z",
     "shell.execute_reply": "2020-12-05T11:42:32.773096Z"
    },
    "id": "D4faEOlOIAQ8",
    "outputId": "9e4fe98c-c853-4b2f-d0ac-e57ee9ba9497",
    "papermill": {
     "duration": 0.061045,
     "end_time": "2020-12-05T11:42:32.773252",
     "exception": false,
     "start_time": "2020-12-05T11:42:32.712207",
     "status": "completed"
    },
    "tags": []
   },
   "outputs": [
    {
     "data": {
      "text/html": [
       "<div>\n",
       "<style scoped>\n",
       "    .dataframe tbody tr th:only-of-type {\n",
       "        vertical-align: middle;\n",
       "    }\n",
       "\n",
       "    .dataframe tbody tr th {\n",
       "        vertical-align: top;\n",
       "    }\n",
       "\n",
       "    .dataframe thead th {\n",
       "        text-align: right;\n",
       "    }\n",
       "</style>\n",
       "<table border=\"1\" class=\"dataframe\">\n",
       "  <thead>\n",
       "    <tr style=\"text-align: right;\">\n",
       "      <th></th>\n",
       "      <th>label</th>\n",
       "      <th>pixel1</th>\n",
       "      <th>pixel2</th>\n",
       "      <th>pixel3</th>\n",
       "      <th>pixel4</th>\n",
       "      <th>pixel5</th>\n",
       "      <th>pixel6</th>\n",
       "      <th>pixel7</th>\n",
       "      <th>pixel8</th>\n",
       "      <th>pixel9</th>\n",
       "      <th>...</th>\n",
       "      <th>pixel775</th>\n",
       "      <th>pixel776</th>\n",
       "      <th>pixel777</th>\n",
       "      <th>pixel778</th>\n",
       "      <th>pixel779</th>\n",
       "      <th>pixel780</th>\n",
       "      <th>pixel781</th>\n",
       "      <th>pixel782</th>\n",
       "      <th>pixel783</th>\n",
       "      <th>pixel784</th>\n",
       "    </tr>\n",
       "  </thead>\n",
       "  <tbody>\n",
       "    <tr>\n",
       "      <th>0</th>\n",
       "      <td>2</td>\n",
       "      <td>0</td>\n",
       "      <td>0</td>\n",
       "      <td>0</td>\n",
       "      <td>0</td>\n",
       "      <td>0</td>\n",
       "      <td>0</td>\n",
       "      <td>0</td>\n",
       "      <td>0</td>\n",
       "      <td>0</td>\n",
       "      <td>...</td>\n",
       "      <td>0</td>\n",
       "      <td>0</td>\n",
       "      <td>0</td>\n",
       "      <td>0</td>\n",
       "      <td>0</td>\n",
       "      <td>0</td>\n",
       "      <td>0</td>\n",
       "      <td>0</td>\n",
       "      <td>0</td>\n",
       "      <td>0</td>\n",
       "    </tr>\n",
       "    <tr>\n",
       "      <th>1</th>\n",
       "      <td>9</td>\n",
       "      <td>0</td>\n",
       "      <td>0</td>\n",
       "      <td>0</td>\n",
       "      <td>0</td>\n",
       "      <td>0</td>\n",
       "      <td>0</td>\n",
       "      <td>0</td>\n",
       "      <td>0</td>\n",
       "      <td>0</td>\n",
       "      <td>...</td>\n",
       "      <td>0</td>\n",
       "      <td>0</td>\n",
       "      <td>0</td>\n",
       "      <td>0</td>\n",
       "      <td>0</td>\n",
       "      <td>0</td>\n",
       "      <td>0</td>\n",
       "      <td>0</td>\n",
       "      <td>0</td>\n",
       "      <td>0</td>\n",
       "    </tr>\n",
       "    <tr>\n",
       "      <th>2</th>\n",
       "      <td>6</td>\n",
       "      <td>0</td>\n",
       "      <td>0</td>\n",
       "      <td>0</td>\n",
       "      <td>0</td>\n",
       "      <td>0</td>\n",
       "      <td>0</td>\n",
       "      <td>0</td>\n",
       "      <td>5</td>\n",
       "      <td>0</td>\n",
       "      <td>...</td>\n",
       "      <td>0</td>\n",
       "      <td>0</td>\n",
       "      <td>0</td>\n",
       "      <td>30</td>\n",
       "      <td>43</td>\n",
       "      <td>0</td>\n",
       "      <td>0</td>\n",
       "      <td>0</td>\n",
       "      <td>0</td>\n",
       "      <td>0</td>\n",
       "    </tr>\n",
       "    <tr>\n",
       "      <th>3</th>\n",
       "      <td>0</td>\n",
       "      <td>0</td>\n",
       "      <td>0</td>\n",
       "      <td>0</td>\n",
       "      <td>1</td>\n",
       "      <td>2</td>\n",
       "      <td>0</td>\n",
       "      <td>0</td>\n",
       "      <td>0</td>\n",
       "      <td>0</td>\n",
       "      <td>...</td>\n",
       "      <td>3</td>\n",
       "      <td>0</td>\n",
       "      <td>0</td>\n",
       "      <td>0</td>\n",
       "      <td>0</td>\n",
       "      <td>1</td>\n",
       "      <td>0</td>\n",
       "      <td>0</td>\n",
       "      <td>0</td>\n",
       "      <td>0</td>\n",
       "    </tr>\n",
       "    <tr>\n",
       "      <th>4</th>\n",
       "      <td>3</td>\n",
       "      <td>0</td>\n",
       "      <td>0</td>\n",
       "      <td>0</td>\n",
       "      <td>0</td>\n",
       "      <td>0</td>\n",
       "      <td>0</td>\n",
       "      <td>0</td>\n",
       "      <td>0</td>\n",
       "      <td>0</td>\n",
       "      <td>...</td>\n",
       "      <td>0</td>\n",
       "      <td>0</td>\n",
       "      <td>0</td>\n",
       "      <td>0</td>\n",
       "      <td>0</td>\n",
       "      <td>0</td>\n",
       "      <td>0</td>\n",
       "      <td>0</td>\n",
       "      <td>0</td>\n",
       "      <td>0</td>\n",
       "    </tr>\n",
       "  </tbody>\n",
       "</table>\n",
       "<p>5 rows × 785 columns</p>\n",
       "</div>"
      ],
      "text/plain": [
       "   label  pixel1  pixel2  pixel3  pixel4  pixel5  pixel6  pixel7  pixel8  \\\n",
       "0      2       0       0       0       0       0       0       0       0   \n",
       "1      9       0       0       0       0       0       0       0       0   \n",
       "2      6       0       0       0       0       0       0       0       5   \n",
       "3      0       0       0       0       1       2       0       0       0   \n",
       "4      3       0       0       0       0       0       0       0       0   \n",
       "\n",
       "   pixel9  ...  pixel775  pixel776  pixel777  pixel778  pixel779  pixel780  \\\n",
       "0       0  ...         0         0         0         0         0         0   \n",
       "1       0  ...         0         0         0         0         0         0   \n",
       "2       0  ...         0         0         0        30        43         0   \n",
       "3       0  ...         3         0         0         0         0         1   \n",
       "4       0  ...         0         0         0         0         0         0   \n",
       "\n",
       "   pixel781  pixel782  pixel783  pixel784  \n",
       "0         0         0         0         0  \n",
       "1         0         0         0         0  \n",
       "2         0         0         0         0  \n",
       "3         0         0         0         0  \n",
       "4         0         0         0         0  \n",
       "\n",
       "[5 rows x 785 columns]"
      ]
     },
     "execution_count": 5,
     "metadata": {},
     "output_type": "execute_result"
    }
   ],
   "source": [
    "train.head()"
   ]
  },
  {
   "cell_type": "code",
   "execution_count": 6,
   "metadata": {
    "execution": {
     "iopub.execute_input": "2020-12-05T11:42:32.849332Z",
     "iopub.status.busy": "2020-12-05T11:42:32.848510Z",
     "iopub.status.idle": "2020-12-05T11:42:32.853913Z",
     "shell.execute_reply": "2020-12-05T11:42:32.853346Z"
    },
    "id": "6bsdeUepKE76",
    "outputId": "787f5d4f-cf3f-45b0-fde7-22cceb81f998",
    "papermill": {
     "duration": 0.04565,
     "end_time": "2020-12-05T11:42:32.854045",
     "exception": false,
     "start_time": "2020-12-05T11:42:32.808395",
     "status": "completed"
    },
    "tags": []
   },
   "outputs": [
    {
     "data": {
      "text/plain": [
       "(60000, 785)"
      ]
     },
     "execution_count": 6,
     "metadata": {},
     "output_type": "execute_result"
    }
   ],
   "source": [
    "train.shape"
   ]
  },
  {
   "cell_type": "code",
   "execution_count": 7,
   "metadata": {
    "execution": {
     "iopub.execute_input": "2020-12-05T11:42:32.938756Z",
     "iopub.status.busy": "2020-12-05T11:42:32.938100Z",
     "iopub.status.idle": "2020-12-05T11:42:33.894279Z",
     "shell.execute_reply": "2020-12-05T11:42:33.895123Z"
    },
    "id": "RT0dPPK_NL7D",
    "papermill": {
     "duration": 1.007156,
     "end_time": "2020-12-05T11:42:33.895328",
     "exception": false,
     "start_time": "2020-12-05T11:42:32.888172",
     "status": "completed"
    },
    "tags": []
   },
   "outputs": [],
   "source": [
    "test=pd.read_csv('/kaggle/input/fashionmnist/fashion-mnist_test.csv')"
   ]
  },
  {
   "cell_type": "code",
   "execution_count": 8,
   "metadata": {
    "execution": {
     "iopub.execute_input": "2020-12-05T11:42:33.990217Z",
     "iopub.status.busy": "2020-12-05T11:42:33.981917Z",
     "iopub.status.idle": "2020-12-05T11:42:33.995794Z",
     "shell.execute_reply": "2020-12-05T11:42:33.996383Z"
    },
    "id": "DDBdKFLgNUYE",
    "outputId": "14b16a6a-ed76-49a2-d1fa-a1fb871e77e8",
    "papermill": {
     "duration": 0.059454,
     "end_time": "2020-12-05T11:42:33.996518",
     "exception": false,
     "start_time": "2020-12-05T11:42:33.937064",
     "status": "completed"
    },
    "tags": []
   },
   "outputs": [
    {
     "data": {
      "text/html": [
       "<div>\n",
       "<style scoped>\n",
       "    .dataframe tbody tr th:only-of-type {\n",
       "        vertical-align: middle;\n",
       "    }\n",
       "\n",
       "    .dataframe tbody tr th {\n",
       "        vertical-align: top;\n",
       "    }\n",
       "\n",
       "    .dataframe thead th {\n",
       "        text-align: right;\n",
       "    }\n",
       "</style>\n",
       "<table border=\"1\" class=\"dataframe\">\n",
       "  <thead>\n",
       "    <tr style=\"text-align: right;\">\n",
       "      <th></th>\n",
       "      <th>label</th>\n",
       "      <th>pixel1</th>\n",
       "      <th>pixel2</th>\n",
       "      <th>pixel3</th>\n",
       "      <th>pixel4</th>\n",
       "      <th>pixel5</th>\n",
       "      <th>pixel6</th>\n",
       "      <th>pixel7</th>\n",
       "      <th>pixel8</th>\n",
       "      <th>pixel9</th>\n",
       "      <th>...</th>\n",
       "      <th>pixel775</th>\n",
       "      <th>pixel776</th>\n",
       "      <th>pixel777</th>\n",
       "      <th>pixel778</th>\n",
       "      <th>pixel779</th>\n",
       "      <th>pixel780</th>\n",
       "      <th>pixel781</th>\n",
       "      <th>pixel782</th>\n",
       "      <th>pixel783</th>\n",
       "      <th>pixel784</th>\n",
       "    </tr>\n",
       "  </thead>\n",
       "  <tbody>\n",
       "    <tr>\n",
       "      <th>0</th>\n",
       "      <td>0</td>\n",
       "      <td>0</td>\n",
       "      <td>0</td>\n",
       "      <td>0</td>\n",
       "      <td>0</td>\n",
       "      <td>0</td>\n",
       "      <td>0</td>\n",
       "      <td>0</td>\n",
       "      <td>9</td>\n",
       "      <td>8</td>\n",
       "      <td>...</td>\n",
       "      <td>103</td>\n",
       "      <td>87</td>\n",
       "      <td>56</td>\n",
       "      <td>0</td>\n",
       "      <td>0</td>\n",
       "      <td>0</td>\n",
       "      <td>0</td>\n",
       "      <td>0</td>\n",
       "      <td>0</td>\n",
       "      <td>0</td>\n",
       "    </tr>\n",
       "    <tr>\n",
       "      <th>1</th>\n",
       "      <td>1</td>\n",
       "      <td>0</td>\n",
       "      <td>0</td>\n",
       "      <td>0</td>\n",
       "      <td>0</td>\n",
       "      <td>0</td>\n",
       "      <td>0</td>\n",
       "      <td>0</td>\n",
       "      <td>0</td>\n",
       "      <td>0</td>\n",
       "      <td>...</td>\n",
       "      <td>34</td>\n",
       "      <td>0</td>\n",
       "      <td>0</td>\n",
       "      <td>0</td>\n",
       "      <td>0</td>\n",
       "      <td>0</td>\n",
       "      <td>0</td>\n",
       "      <td>0</td>\n",
       "      <td>0</td>\n",
       "      <td>0</td>\n",
       "    </tr>\n",
       "    <tr>\n",
       "      <th>2</th>\n",
       "      <td>2</td>\n",
       "      <td>0</td>\n",
       "      <td>0</td>\n",
       "      <td>0</td>\n",
       "      <td>0</td>\n",
       "      <td>0</td>\n",
       "      <td>0</td>\n",
       "      <td>14</td>\n",
       "      <td>53</td>\n",
       "      <td>99</td>\n",
       "      <td>...</td>\n",
       "      <td>0</td>\n",
       "      <td>0</td>\n",
       "      <td>0</td>\n",
       "      <td>0</td>\n",
       "      <td>63</td>\n",
       "      <td>53</td>\n",
       "      <td>31</td>\n",
       "      <td>0</td>\n",
       "      <td>0</td>\n",
       "      <td>0</td>\n",
       "    </tr>\n",
       "    <tr>\n",
       "      <th>3</th>\n",
       "      <td>2</td>\n",
       "      <td>0</td>\n",
       "      <td>0</td>\n",
       "      <td>0</td>\n",
       "      <td>0</td>\n",
       "      <td>0</td>\n",
       "      <td>0</td>\n",
       "      <td>0</td>\n",
       "      <td>0</td>\n",
       "      <td>0</td>\n",
       "      <td>...</td>\n",
       "      <td>137</td>\n",
       "      <td>126</td>\n",
       "      <td>140</td>\n",
       "      <td>0</td>\n",
       "      <td>133</td>\n",
       "      <td>224</td>\n",
       "      <td>222</td>\n",
       "      <td>56</td>\n",
       "      <td>0</td>\n",
       "      <td>0</td>\n",
       "    </tr>\n",
       "    <tr>\n",
       "      <th>4</th>\n",
       "      <td>3</td>\n",
       "      <td>0</td>\n",
       "      <td>0</td>\n",
       "      <td>0</td>\n",
       "      <td>0</td>\n",
       "      <td>0</td>\n",
       "      <td>0</td>\n",
       "      <td>0</td>\n",
       "      <td>0</td>\n",
       "      <td>0</td>\n",
       "      <td>...</td>\n",
       "      <td>0</td>\n",
       "      <td>0</td>\n",
       "      <td>0</td>\n",
       "      <td>0</td>\n",
       "      <td>0</td>\n",
       "      <td>0</td>\n",
       "      <td>0</td>\n",
       "      <td>0</td>\n",
       "      <td>0</td>\n",
       "      <td>0</td>\n",
       "    </tr>\n",
       "  </tbody>\n",
       "</table>\n",
       "<p>5 rows × 785 columns</p>\n",
       "</div>"
      ],
      "text/plain": [
       "   label  pixel1  pixel2  pixel3  pixel4  pixel5  pixel6  pixel7  pixel8  \\\n",
       "0      0       0       0       0       0       0       0       0       9   \n",
       "1      1       0       0       0       0       0       0       0       0   \n",
       "2      2       0       0       0       0       0       0      14      53   \n",
       "3      2       0       0       0       0       0       0       0       0   \n",
       "4      3       0       0       0       0       0       0       0       0   \n",
       "\n",
       "   pixel9  ...  pixel775  pixel776  pixel777  pixel778  pixel779  pixel780  \\\n",
       "0       8  ...       103        87        56         0         0         0   \n",
       "1       0  ...        34         0         0         0         0         0   \n",
       "2      99  ...         0         0         0         0        63        53   \n",
       "3       0  ...       137       126       140         0       133       224   \n",
       "4       0  ...         0         0         0         0         0         0   \n",
       "\n",
       "   pixel781  pixel782  pixel783  pixel784  \n",
       "0         0         0         0         0  \n",
       "1         0         0         0         0  \n",
       "2        31         0         0         0  \n",
       "3       222        56         0         0  \n",
       "4         0         0         0         0  \n",
       "\n",
       "[5 rows x 785 columns]"
      ]
     },
     "execution_count": 8,
     "metadata": {},
     "output_type": "execute_result"
    }
   ],
   "source": [
    "test.head()"
   ]
  },
  {
   "cell_type": "code",
   "execution_count": 9,
   "metadata": {
    "execution": {
     "iopub.execute_input": "2020-12-05T11:42:34.075395Z",
     "iopub.status.busy": "2020-12-05T11:42:34.074361Z",
     "iopub.status.idle": "2020-12-05T11:42:34.078219Z",
     "shell.execute_reply": "2020-12-05T11:42:34.079077Z"
    },
    "id": "gi1PuYlkOJEc",
    "outputId": "56d46585-17be-4bca-ebaa-14690210e769",
    "papermill": {
     "duration": 0.04649,
     "end_time": "2020-12-05T11:42:34.079290",
     "exception": false,
     "start_time": "2020-12-05T11:42:34.032800",
     "status": "completed"
    },
    "tags": []
   },
   "outputs": [
    {
     "data": {
      "text/plain": [
       "(10000, 785)"
      ]
     },
     "execution_count": 9,
     "metadata": {},
     "output_type": "execute_result"
    }
   ],
   "source": [
    "test.shape"
   ]
  },
  {
   "cell_type": "markdown",
   "metadata": {
    "id": "LwqTBRkiKir5",
    "papermill": {
     "duration": 0.025205,
     "end_time": "2020-12-05T11:42:34.133372",
     "exception": false,
     "start_time": "2020-12-05T11:42:34.108167",
     "status": "completed"
    },
    "tags": []
   },
   "source": [
    "## Preprocessing"
   ]
  },
  {
   "cell_type": "markdown",
   "metadata": {
    "id": "nBDiMGgwKlbZ",
    "papermill": {
     "duration": 0.024924,
     "end_time": "2020-12-05T11:42:34.183288",
     "exception": false,
     "start_time": "2020-12-05T11:42:34.158364",
     "status": "completed"
    },
    "tags": []
   },
   "source": [
    "As we have taken the train and test data in dataframe we have to change them into numpy ndarray for fitting in tensorflow framework.\n",
    "\n",
    "The data is not shaped properly to feed through the CNN layers. So we also have to reshape the data.\n",
    "\n",
    "Before that we have to split the X and Y of the datas."
   ]
  },
  {
   "cell_type": "code",
   "execution_count": 10,
   "metadata": {
    "execution": {
     "iopub.execute_input": "2020-12-05T11:42:34.421472Z",
     "iopub.status.busy": "2020-12-05T11:42:34.420809Z",
     "iopub.status.idle": "2020-12-05T11:42:34.423948Z",
     "shell.execute_reply": "2020-12-05T11:42:34.424909Z"
    },
    "id": "pq-r6JezJ9j6",
    "papermill": {
     "duration": 0.2163,
     "end_time": "2020-12-05T11:42:34.425078",
     "exception": false,
     "start_time": "2020-12-05T11:42:34.208778",
     "status": "completed"
    },
    "tags": []
   },
   "outputs": [],
   "source": [
    "X_train=train.drop('label',1)\n",
    "y_train=train['label']"
   ]
  },
  {
   "cell_type": "code",
   "execution_count": 11,
   "metadata": {
    "execution": {
     "iopub.execute_input": "2020-12-05T11:42:34.500749Z",
     "iopub.status.busy": "2020-12-05T11:42:34.500138Z",
     "iopub.status.idle": "2020-12-05T11:42:34.504571Z",
     "shell.execute_reply": "2020-12-05T11:42:34.504080Z"
    },
    "id": "SA4opyuoKu87",
    "papermill": {
     "duration": 0.044038,
     "end_time": "2020-12-05T11:42:34.504681",
     "exception": false,
     "start_time": "2020-12-05T11:42:34.460643",
     "status": "completed"
    },
    "tags": []
   },
   "outputs": [],
   "source": [
    "X_train=X_train.to_numpy()"
   ]
  },
  {
   "cell_type": "code",
   "execution_count": 12,
   "metadata": {
    "execution": {
     "iopub.execute_input": "2020-12-05T11:42:34.584362Z",
     "iopub.status.busy": "2020-12-05T11:42:34.583622Z",
     "iopub.status.idle": "2020-12-05T11:42:34.587199Z",
     "shell.execute_reply": "2020-12-05T11:42:34.587672Z"
    },
    "id": "PCG1wy43Kc9r",
    "papermill": {
     "duration": 0.046964,
     "end_time": "2020-12-05T11:42:34.587801",
     "exception": false,
     "start_time": "2020-12-05T11:42:34.540837",
     "status": "completed"
    },
    "tags": []
   },
   "outputs": [],
   "source": [
    "X_train=X_train.reshape(60000,28,28,1)"
   ]
  },
  {
   "cell_type": "code",
   "execution_count": 13,
   "metadata": {
    "execution": {
     "iopub.execute_input": "2020-12-05T11:42:34.677791Z",
     "iopub.status.busy": "2020-12-05T11:42:34.677177Z",
     "iopub.status.idle": "2020-12-05T11:42:34.681679Z",
     "shell.execute_reply": "2020-12-05T11:42:34.681086Z"
    },
    "id": "LmekXhqKOL-k",
    "papermill": {
     "duration": 0.0571,
     "end_time": "2020-12-05T11:42:34.681798",
     "exception": false,
     "start_time": "2020-12-05T11:42:34.624698",
     "status": "completed"
    },
    "tags": []
   },
   "outputs": [],
   "source": [
    "X_test=test.drop('label',1)\n",
    "y_test=test['label']"
   ]
  },
  {
   "cell_type": "code",
   "execution_count": 14,
   "metadata": {
    "execution": {
     "iopub.execute_input": "2020-12-05T11:42:34.760040Z",
     "iopub.status.busy": "2020-12-05T11:42:34.759309Z",
     "iopub.status.idle": "2020-12-05T11:42:34.762815Z",
     "shell.execute_reply": "2020-12-05T11:42:34.763356Z"
    },
    "id": "WBOANmozOWsk",
    "papermill": {
     "duration": 0.045213,
     "end_time": "2020-12-05T11:42:34.763485",
     "exception": false,
     "start_time": "2020-12-05T11:42:34.718272",
     "status": "completed"
    },
    "tags": []
   },
   "outputs": [],
   "source": [
    "X_test=X_test.to_numpy()\n",
    "X_test=X_test.reshape(10000,28,28,1)"
   ]
  },
  {
   "cell_type": "code",
   "execution_count": 15,
   "metadata": {
    "execution": {
     "iopub.execute_input": "2020-12-05T11:42:34.843322Z",
     "iopub.status.busy": "2020-12-05T11:42:34.842657Z",
     "iopub.status.idle": "2020-12-05T11:42:34.847063Z",
     "shell.execute_reply": "2020-12-05T11:42:34.846516Z"
    },
    "id": "j4ciqUPjSnNQ",
    "papermill": {
     "duration": 0.046968,
     "end_time": "2020-12-05T11:42:34.847154",
     "exception": false,
     "start_time": "2020-12-05T11:42:34.800186",
     "status": "completed"
    },
    "tags": []
   },
   "outputs": [],
   "source": [
    "y_train=y_train.to_numpy()\n",
    "y_test=y_test.to_numpy()"
   ]
  },
  {
   "cell_type": "markdown",
   "metadata": {
    "id": "GmCyZHKmLj9S",
    "papermill": {
     "duration": 0.025736,
     "end_time": "2020-12-05T11:42:34.899635",
     "exception": false,
     "start_time": "2020-12-05T11:42:34.873899",
     "status": "completed"
    },
    "tags": []
   },
   "source": [
    "**Just for visualization :** we can see the first image and and check it's original label.\n",
    "(As the data is now in 4-d form we have to reshape it for visualization."
   ]
  },
  {
   "cell_type": "code",
   "execution_count": 16,
   "metadata": {
    "execution": {
     "iopub.execute_input": "2020-12-05T11:42:34.970803Z",
     "iopub.status.busy": "2020-12-05T11:42:34.970363Z",
     "iopub.status.idle": "2020-12-05T11:42:35.171588Z",
     "shell.execute_reply": "2020-12-05T11:42:35.172476Z"
    },
    "id": "Rchkov0-LF1r",
    "outputId": "a1024bd0-40a6-4e5b-b90f-f2d69a6ae4eb",
    "papermill": {
     "duration": 0.244349,
     "end_time": "2020-12-05T11:42:35.172669",
     "exception": false,
     "start_time": "2020-12-05T11:42:34.928320",
     "status": "completed"
    },
    "tags": []
   },
   "outputs": [
    {
     "data": {
      "text/plain": [
       "<matplotlib.image.AxesImage at 0x7f98cf4bd810>"
      ]
     },
     "execution_count": 16,
     "metadata": {},
     "output_type": "execute_result"
    },
    {
     "data": {
      "image/png": "[encoded data removed]",
      "text/plain": [
       "<Figure size 432x288 with 1 Axes>"
      ]
     },
     "metadata": {
      "needs_background": "light"
     },
     "output_type": "display_data"
    }
   ],
   "source": [
    "plt.imshow(X_train[0].reshape(28,28))"
   ]
  },
  {
   "cell_type": "code",
   "execution_count": 17,
   "metadata": {
    "execution": {
     "iopub.execute_input": "2020-12-05T11:42:35.311528Z",
     "iopub.status.busy": "2020-12-05T11:42:35.310565Z",
     "iopub.status.idle": "2020-12-05T11:42:35.313246Z",
     "shell.execute_reply": "2020-12-05T11:42:35.313891Z"
    },
    "id": "K9r-gCnZMhJ8",
    "papermill": {
     "duration": 0.059326,
     "end_time": "2020-12-05T11:42:35.314066",
     "exception": false,
     "start_time": "2020-12-05T11:42:35.254740",
     "status": "completed"
    },
    "tags": []
   },
   "outputs": [],
   "source": [
    "labels=['T-shirt/top','Trouser','Pullover','Dress','Coat','Sandal','Shirt','Sneaker','Bag','Ankle boot']"
   ]
  },
  {
   "cell_type": "code",
   "execution_count": 18,
   "metadata": {
    "execution": {
     "iopub.execute_input": "2020-12-05T11:42:35.433806Z",
     "iopub.status.busy": "2020-12-05T11:42:35.432736Z",
     "iopub.status.idle": "2020-12-05T11:42:35.436648Z",
     "shell.execute_reply": "2020-12-05T11:42:35.437525Z"
    },
    "id": "LB5jLrLFNAEE",
    "outputId": "82a6b8fe-48f3-4fe1-ba23-3d0dc75e0bd4",
    "papermill": {
     "duration": 0.063818,
     "end_time": "2020-12-05T11:42:35.437725",
     "exception": false,
     "start_time": "2020-12-05T11:42:35.373907",
     "status": "completed"
    },
    "tags": []
   },
   "outputs": [
    {
     "data": {
      "text/plain": [
       "'Pullover'"
      ]
     },
     "execution_count": 18,
     "metadata": {},
     "output_type": "execute_result"
    }
   ],
   "source": [
    "labels[y_train[0]]"
   ]
  },
  {
   "cell_type": "markdown",
   "metadata": {
    "id": "Tncl19qJL29B",
    "papermill": {
     "duration": 0.03794,
     "end_time": "2020-12-05T11:42:35.532347",
     "exception": false,
     "start_time": "2020-12-05T11:42:35.494407",
     "status": "completed"
    },
    "tags": []
   },
   "source": [
    "We have created this array for better understanding .\n",
    "\n",
    "You can use the word **decoder** of it."
   ]
  },
  {
   "cell_type": "markdown",
   "metadata": {
    "id": "FE452brlMOdz",
    "papermill": {
     "duration": 0.049828,
     "end_time": "2020-12-05T11:42:35.620527",
     "exception": false,
     "start_time": "2020-12-05T11:42:35.570699",
     "status": "completed"
    },
    "tags": []
   },
   "source": [
    "As we preprocessed the data we have to normalize the values of the train and test for better prediction."
   ]
  },
  {
   "cell_type": "code",
   "execution_count": 19,
   "metadata": {
    "execution": {
     "iopub.execute_input": "2020-12-05T11:42:35.703111Z",
     "iopub.status.busy": "2020-12-05T11:42:35.702294Z",
     "iopub.status.idle": "2020-12-05T11:42:35.997619Z",
     "shell.execute_reply": "2020-12-05T11:42:35.996932Z"
    },
    "id": "EourYKv0Ov9Q",
    "papermill": {
     "duration": 0.338465,
     "end_time": "2020-12-05T11:42:35.997735",
     "exception": false,
     "start_time": "2020-12-05T11:42:35.659270",
     "status": "completed"
    },
    "tags": []
   },
   "outputs": [],
   "source": [
    "X_train=X_train/255.0\n",
    "X_test=X_test/255.0"
   ]
  },
  {
   "cell_type": "markdown",
   "metadata": {
    "id": "8tkCw8I1MbMi",
    "papermill": {
     "duration": 0.039067,
     "end_time": "2020-12-05T11:42:36.075523",
     "exception": false,
     "start_time": "2020-12-05T11:42:36.036456",
     "status": "completed"
    },
    "tags": []
   },
   "source": [
    "## Model generation\n",
    "\n",
    "As we are making a CNN model for image classification so, we are using **2D ConvNet**"
   ]
  },
  {
   "cell_type": "code",
   "execution_count": 20,
   "metadata": {
    "execution": {
     "iopub.execute_input": "2020-12-05T11:42:36.165639Z",
     "iopub.status.busy": "2020-12-05T11:42:36.164998Z",
     "iopub.status.idle": "2020-12-05T11:42:36.419381Z",
     "shell.execute_reply": "2020-12-05T11:42:36.418653Z"
    },
    "id": "RluaCxTaPCdU",
    "papermill": {
     "duration": 0.305476,
     "end_time": "2020-12-05T11:42:36.419465",
     "exception": false,
     "start_time": "2020-12-05T11:42:36.113989",
     "status": "completed"
    },
    "tags": []
   },
   "outputs": [],
   "source": [
    "model=Sequential()\n",
    "model.add(Conv2D(filters=32,kernel_size=(3,3),activation='relu',input_shape=X_train[0].shape))  #in first layer we have to feed the input shape.\n",
    "model.add(Conv2D(filters=64,kernel_size=(3,3),activation='relu'))\n",
    "model.add(MaxPool2D(2,2))\n",
    "model.add(Dropout(0.25))           # dropout reduces the number of functional neurons.\n",
    "\n",
    "model.add(Flatten())                   # after convnet layers we have to flatten the model to create actual prediction.\n",
    "model.add(Dense(128,activation='relu'))\n",
    "model.add(Dropout(0.5))\n",
    "model.add(Dense(10,activation='softmax'))          # In this step we have used a softmax function to predict classes."
   ]
  },
  {
   "cell_type": "markdown",
   "metadata": {
    "id": "Xcga7ZTdNgJr",
    "papermill": {
     "duration": 0.027678,
     "end_time": "2020-12-05T11:42:36.475728",
     "exception": false,
     "start_time": "2020-12-05T11:42:36.448050",
     "status": "completed"
    },
    "tags": []
   },
   "source": [
    "As we have created our model we can see the summary of it."
   ]
  },
  {
   "cell_type": "code",
   "execution_count": 21,
   "metadata": {
    "execution": {
     "iopub.execute_input": "2020-12-05T11:42:36.539380Z",
     "iopub.status.busy": "2020-12-05T11:42:36.537937Z",
     "iopub.status.idle": "2020-12-05T11:42:36.548120Z",
     "shell.execute_reply": "2020-12-05T11:42:36.548483Z"
    },
    "id": "NBzn9tBDRhCG",
    "outputId": "f7cdd0eb-a3c7-44bc-a4eb-12892790061f",
    "papermill": {
     "duration": 0.044436,
     "end_time": "2020-12-05T11:42:36.548574",
     "exception": false,
     "start_time": "2020-12-05T11:42:36.504138",
     "status": "completed"
    },
    "tags": []
   },
   "outputs": [
    {
     "name": "stdout",
     "output_type": "stream",
     "text": [
      "Model: \"sequential\"\n",
      "_________________________________________________________________\n",
      "Layer (type)                 Output Shape              Param #   \n",
      "=================================================================\n",
      "conv2d (Conv2D)              (None, 26, 26, 32)        320       \n",
      "_________________________________________________________________\n",
      "conv2d_1 (Conv2D)            (None, 24, 24, 64)        18496     \n",
      "_________________________________________________________________\n",
      "max_pooling2d (MaxPooling2D) (None, 12, 12, 64)        0         \n",
      "_________________________________________________________________\n",
      "dropout (Dropout)            (None, 12, 12, 64)        0         \n",
      "_________________________________________________________________\n",
      "flatten (Flatten)            (None, 9216)              0         \n",
      "_________________________________________________________________\n",
      "dense (Dense)                (None, 128)               1179776   \n",
      "_________________________________________________________________\n",
      "dropout_1 (Dropout)          (None, 128)               0         \n",
      "_________________________________________________________________\n",
      "dense_1 (Dense)              (None, 10)                1290      \n",
      "=================================================================\n",
      "Total params: 1,199,882\n",
      "Trainable params: 1,199,882\n",
      "Non-trainable params: 0\n",
      "_________________________________________________________________\n"
     ]
    }
   ],
   "source": [
    "model.summary()"
   ]
  },
  {
   "cell_type": "markdown",
   "metadata": {
    "id": "Gu8zpUZTNl_a",
    "papermill": {
     "duration": 0.028398,
     "end_time": "2020-12-05T11:42:36.606869",
     "exception": false,
     "start_time": "2020-12-05T11:42:36.578471",
     "status": "completed"
    },
    "tags": []
   },
   "source": [
    "We are compiling our model with *adam* optimizer and as this is a multiclass classification we are using the *sparse categorical cross entropy* as loss function."
   ]
  },
  {
   "cell_type": "code",
   "execution_count": 22,
   "metadata": {
    "execution": {
     "iopub.execute_input": "2020-12-05T11:42:36.673231Z",
     "iopub.status.busy": "2020-12-05T11:42:36.672501Z",
     "iopub.status.idle": "2020-12-05T11:42:36.678923Z",
     "shell.execute_reply": "2020-12-05T11:42:36.678370Z"
    },
    "id": "1F6PqdaiRWhG",
    "papermill": {
     "duration": 0.044125,
     "end_time": "2020-12-05T11:42:36.679076",
     "exception": false,
     "start_time": "2020-12-05T11:42:36.634951",
     "status": "completed"
    },
    "tags": []
   },
   "outputs": [],
   "source": [
    "model.compile(optimizer='adam',loss='sparse_categorical_crossentropy',metrics=['accuracy'])"
   ]
  },
  {
   "cell_type": "markdown",
   "metadata": {
    "id": "lyIEK40EN1fC",
    "papermill": {
     "duration": 0.039746,
     "end_time": "2020-12-05T11:42:36.762531",
     "exception": false,
     "start_time": "2020-12-05T11:42:36.722785",
     "status": "completed"
    },
    "tags": []
   },
   "source": [
    "Now we have achieved to the most interesting part of the whole project.\n",
    "\n",
    "We are storing the whole prediction in **hist** for model evaluation."
   ]
  },
  {
   "cell_type": "code",
   "execution_count": 23,
   "metadata": {
    "execution": {
     "iopub.execute_input": "2020-12-05T11:42:36.850198Z",
     "iopub.status.busy": "2020-12-05T11:42:36.849540Z",
     "iopub.status.idle": "2020-12-05T11:54:45.582936Z",
     "shell.execute_reply": "2020-12-05T11:54:45.582338Z"
    },
    "id": "MBWnBeRTRqv2",
    "outputId": "1e7b0c42-cf77-4273-8735-95a35afe6c76",
    "papermill": {
     "duration": 728.78061,
     "end_time": "2020-12-05T11:54:45.583093",
     "exception": false,
     "start_time": "2020-12-05T11:42:36.802483",
     "status": "completed"
    },
    "tags": []
   },
   "outputs": [
    {
     "name": "stdout",
     "output_type": "stream",
     "text": [
      "Epoch 1/10\n",
      "469/469 [==============================] - 71s 152ms/step - loss: 0.5288 - accuracy: 0.8116 - val_loss: 0.3159 - val_accuracy: 0.8883\n",
      "Epoch 2/10\n",
      "469/469 [==============================] - 71s 152ms/step - loss: 0.3481 - accuracy: 0.8775 - val_loss: 0.2693 - val_accuracy: 0.9003\n",
      "Epoch 3/10\n",
      "469/469 [==============================] - 71s 151ms/step - loss: 0.2970 - accuracy: 0.8935 - val_loss: 0.2496 - val_accuracy: 0.9064\n",
      "Epoch 4/10\n",
      "469/469 [==============================] - 72s 154ms/step - loss: 0.2656 - accuracy: 0.9037 - val_loss: 0.2224 - val_accuracy: 0.9180\n",
      "Epoch 5/10\n",
      "469/469 [==============================] - 73s 155ms/step - loss: 0.2418 - accuracy: 0.9125 - val_loss: 0.2153 - val_accuracy: 0.9187\n",
      "Epoch 6/10\n",
      "469/469 [==============================] - 71s 151ms/step - loss: 0.2208 - accuracy: 0.9181 - val_loss: 0.2096 - val_accuracy: 0.9224\n",
      "Epoch 7/10\n",
      "469/469 [==============================] - 72s 153ms/step - loss: 0.2056 - accuracy: 0.9253 - val_loss: 0.2003 - val_accuracy: 0.9257\n",
      "Epoch 8/10\n",
      "469/469 [==============================] - 72s 154ms/step - loss: 0.1892 - accuracy: 0.9301 - val_loss: 0.2056 - val_accuracy: 0.9262\n",
      "Epoch 9/10\n",
      "469/469 [==============================] - 78s 166ms/step - loss: 0.1777 - accuracy: 0.9339 - val_loss: 0.1976 - val_accuracy: 0.9300\n",
      "Epoch 10/10\n",
      "469/469 [==============================] - 75s 159ms/step - loss: 0.1669 - accuracy: 0.9385 - val_loss: 0.2007 - val_accuracy: 0.9288\n"
     ]
    }
   ],
   "source": [
    "hist=model.fit(X_train,y_train,batch_size=128,epochs=10,validation_data=(X_test,y_test),verbose=1)   \n",
    "# validation data can indicate overfitting or underfitting of the model."
   ]
  },
  {
   "cell_type": "markdown",
   "metadata": {
    "id": "1AC4ns3WOY77",
    "papermill": {
     "duration": 1.681996,
     "end_time": "2020-12-05T11:54:48.905013",
     "exception": false,
     "start_time": "2020-12-05T11:54:47.223017",
     "status": "completed"
    },
    "tags": []
   },
   "source": [
    "So, the model fitting took almost 30 minutes. and after that we can see the we have reached a train accuracy of 94% and validation accuracy of 93%.\n",
    "\n"
   ]
  },
  {
   "cell_type": "markdown",
   "metadata": {
    "id": "VzAb3kFfOqGM",
    "papermill": {
     "duration": 1.666289,
     "end_time": "2020-12-05T11:54:52.053232",
     "exception": false,
     "start_time": "2020-12-05T11:54:50.386943",
     "status": "completed"
    },
    "tags": []
   },
   "source": [
    "## Model Evaluation"
   ]
  },
  {
   "cell_type": "code",
   "execution_count": 24,
   "metadata": {
    "execution": {
     "iopub.execute_input": "2020-12-05T11:54:55.134001Z",
     "iopub.status.busy": "2020-12-05T11:54:55.123905Z",
     "iopub.status.idle": "2020-12-05T11:54:55.415084Z",
     "shell.execute_reply": "2020-12-05T11:54:55.415571Z"
    },
    "id": "bg-9p2sfYley",
    "outputId": "1ca11370-0be5-4b8a-e4c9-5288a2e83f61",
    "papermill": {
     "duration": 1.936938,
     "end_time": "2020-12-05T11:54:55.415716",
     "exception": false,
     "start_time": "2020-12-05T11:54:53.478778",
     "status": "completed"
    },
    "tags": []
   },
   "outputs": [
    {
     "data": {
      "image/png": "[encoded data removed]",
      "text/plain": [
       "<Figure size 432x288 with 1 Axes>"
      ]
     },
     "metadata": {
      "needs_background": "light"
     },
     "output_type": "display_data"
    },
    {
     "data": {
      "image/png": "[encoded data removed]",
      "text/plain": [
       "<Figure size 432x288 with 1 Axes>"
      ]
     },
     "metadata": {
      "needs_background": "light"
     },
     "output_type": "display_data"
    }
   ],
   "source": [
    "plt.title('Model Accuracy')\n",
    "plt.plot(range(1,11),hist.history['accuracy'])\n",
    "plt.plot(range(1,11),hist.history['val_accuracy'])\n",
    "plt.xlabel('Epoch')\n",
    "plt.ylabel('accuracy')\n",
    "plt.legend(labels=['train','validation'])\n",
    "plt.show()\n",
    "\n",
    "plt.title('Model Loss')\n",
    "plt.plot(range(1,11),hist.history['loss'])\n",
    "plt.plot(range(1,11),hist.history['val_loss'])\n",
    "plt.xlabel('Epoch')\n",
    "plt.ylabel('loss')\n",
    "plt.legend(labels=['train','validation'])\n",
    "plt.show()"
   ]
  },
  {
   "cell_type": "markdown",
   "metadata": {
    "id": "vKW8kPnsOtNU",
    "papermill": {
     "duration": 1.628501,
     "end_time": "2020-12-05T11:54:58.691572",
     "exception": false,
     "start_time": "2020-12-05T11:54:57.063071",
     "status": "completed"
    },
    "tags": []
   },
   "source": [
    "After visualizaing the accuracy and loss digram of both train and validation data we can see the model is slightly overfitted. and it is visible that the best accuracy for training and validation data is on **9th epoch**."
   ]
  },
  {
   "cell_type": "markdown",
   "metadata": {
    "id": "mfh6Rk3iPJQi",
    "papermill": {
     "duration": 2.015299,
     "end_time": "2020-12-05T11:55:02.342186",
     "exception": false,
     "start_time": "2020-12-05T11:55:00.326887",
     "status": "completed"
    },
    "tags": []
   },
   "source": [
    "## Creating prediction data"
   ]
  },
  {
   "cell_type": "code",
   "execution_count": 25,
   "metadata": {
    "execution": {
     "iopub.execute_input": "2020-12-05T11:55:06.159478Z",
     "iopub.status.busy": "2020-12-05T11:55:06.158594Z",
     "iopub.status.idle": "2020-12-05T11:55:09.349211Z",
     "shell.execute_reply": "2020-12-05T11:55:09.348650Z"
    },
    "id": "UnK9i7UhYw6Z",
    "papermill": {
     "duration": 4.897503,
     "end_time": "2020-12-05T11:55:09.349327",
     "exception": false,
     "start_time": "2020-12-05T11:55:04.451824",
     "status": "completed"
    },
    "tags": []
   },
   "outputs": [],
   "source": [
    "y_pr=model.predict(X_test)"
   ]
  },
  {
   "cell_type": "code",
   "execution_count": 26,
   "metadata": {
    "execution": {
     "iopub.execute_input": "2020-12-05T11:55:12.622387Z",
     "iopub.status.busy": "2020-12-05T11:55:12.621213Z",
     "iopub.status.idle": "2020-12-05T11:55:12.626220Z",
     "shell.execute_reply": "2020-12-05T11:55:12.625561Z"
    },
    "id": "Yly6jp51ZCjC",
    "outputId": "3a270509-55f3-42d4-fe89-bba261b4a336",
    "papermill": {
     "duration": 1.637716,
     "end_time": "2020-12-05T11:55:12.626328",
     "exception": false,
     "start_time": "2020-12-05T11:55:10.988612",
     "status": "completed"
    },
    "tags": []
   },
   "outputs": [
    {
     "data": {
      "text/plain": [
       "array([[9.99814808e-01, 5.67723863e-12, 5.25242342e-07, ...,\n",
       "        5.96070705e-14, 3.12634008e-09, 1.99540651e-14],\n",
       "       [1.40153752e-12, 1.00000000e+00, 1.37242729e-13, ...,\n",
       "        2.65611215e-16, 2.19604472e-14, 2.86638199e-16],\n",
       "       [4.52629570e-03, 3.14949578e-09, 9.49565649e-01, ...,\n",
       "        2.34796102e-12, 2.22605266e-07, 7.50733753e-10],\n",
       "       ...,\n",
       "       [2.91497707e-16, 1.04503643e-16, 2.16628491e-16, ...,\n",
       "        1.31636146e-16, 1.00000000e+00, 1.09093096e-17],\n",
       "       [3.55077418e-07, 3.56274410e-09, 4.62134914e-11, ...,\n",
       "        3.81648567e-11, 9.99999166e-01, 5.69339313e-08],\n",
       "       [1.21401019e-04, 9.98702407e-01, 3.39786493e-05, ...,\n",
       "        1.02638637e-06, 7.75786611e-06, 9.22465097e-06]], dtype=float32)"
      ]
     },
     "execution_count": 26,
     "metadata": {},
     "output_type": "execute_result"
    }
   ],
   "source": [
    "y_pr"
   ]
  },
  {
   "cell_type": "markdown",
   "metadata": {
    "id": "Uf7CR339POKa",
    "papermill": {
     "duration": 2.401647,
     "end_time": "2020-12-05T11:55:17.347990",
     "exception": false,
     "start_time": "2020-12-05T11:55:14.946343",
     "status": "completed"
    },
    "tags": []
   },
   "source": [
    "as we can see the prediction of each image is sequence of values. So wee need to use argmax for getting the actual prediction."
   ]
  },
  {
   "cell_type": "code",
   "execution_count": 27,
   "metadata": {
    "execution": {
     "iopub.execute_input": "2020-12-05T11:55:20.735234Z",
     "iopub.status.busy": "2020-12-05T11:55:20.734262Z",
     "iopub.status.idle": "2020-12-05T11:55:20.768462Z",
     "shell.execute_reply": "2020-12-05T11:55:20.767866Z"
    },
    "id": "4MadA3XLY5jd",
    "papermill": {
     "duration": 1.699445,
     "end_time": "2020-12-05T11:55:20.768577",
     "exception": false,
     "start_time": "2020-12-05T11:55:19.069132",
     "status": "completed"
    },
    "tags": []
   },
   "outputs": [],
   "source": [
    "y_pred=[]\n",
    "for i in range(len(y_pr)):\n",
    "  y_pred.append(np.argmax(y_pr[i]))"
   ]
  },
  {
   "cell_type": "code",
   "execution_count": 28,
   "metadata": {
    "execution": {
     "iopub.execute_input": "2020-12-05T11:55:24.149107Z",
     "iopub.status.busy": "2020-12-05T11:55:24.148550Z",
     "iopub.status.idle": "2020-12-05T11:55:24.152833Z",
     "shell.execute_reply": "2020-12-05T11:55:24.152223Z"
    },
    "id": "xQiDv6_gZIQp",
    "outputId": "48c3b5ec-0413-49d8-f276-9037bd8e08c8",
    "papermill": {
     "duration": 1.72054,
     "end_time": "2020-12-05T11:55:24.152945",
     "exception": false,
     "start_time": "2020-12-05T11:55:22.432405",
     "status": "completed"
    },
    "tags": []
   },
   "outputs": [
    {
     "name": "stdout",
     "output_type": "stream",
     "text": [
      "0\n",
      "1\n",
      "2\n",
      "2\n",
      "3\n"
     ]
    }
   ],
   "source": [
    "for i in range(5):\n",
    "    print(y_pred[i])"
   ]
  },
  {
   "cell_type": "markdown",
   "metadata": {
    "id": "g4LrxmL5Pu-U",
    "papermill": {
     "duration": 1.5698,
     "end_time": "2020-12-05T11:55:27.400676",
     "exception": false,
     "start_time": "2020-12-05T11:55:25.830876",
     "status": "completed"
    },
    "tags": []
   },
   "source": [
    "So, now after getting the prediction we can check if it is really giving accurate predictions or not."
   ]
  },
  {
   "cell_type": "code",
   "execution_count": 29,
   "metadata": {
    "execution": {
     "iopub.execute_input": "2020-12-05T11:55:30.728199Z",
     "iopub.status.busy": "2020-12-05T11:55:30.713687Z",
     "iopub.status.idle": "2020-12-05T11:55:31.435423Z",
     "shell.execute_reply": "2020-12-05T11:55:31.434775Z"
    },
    "id": "GJ65KSUGZKri",
    "outputId": "b821caae-b6b9-4585-939d-17eddd1e3cea",
    "papermill": {
     "duration": 2.400487,
     "end_time": "2020-12-05T11:55:31.435532",
     "exception": false,
     "start_time": "2020-12-05T11:55:29.035045",
     "status": "completed"
    },
    "tags": []
   },
   "outputs": [
    {
     "name": "stdout",
     "output_type": "stream",
     "text": [
      "prediction of the image :  T-shirt/top\n",
      "actual image :\n"
     ]
    },
    {
     "data": {
      "image/png": "[encoded data removed]",
      "text/plain": [
       "<Figure size 432x288 with 1 Axes>"
      ]
     },
     "metadata": {
      "needs_background": "light"
     },
     "output_type": "display_data"
    },
    {
     "name": "stdout",
     "output_type": "stream",
     "text": [
      "prediction of the image :  Trouser\n",
      "actual image :\n"
     ]
    },
    {
     "data": {
      "image/png": "[encoded data removed]",
      "text/plain": [
       "<Figure size 432x288 with 1 Axes>"
      ]
     },
     "metadata": {
      "needs_background": "light"
     },
     "output_type": "display_data"
    },
    {
     "name": "stdout",
     "output_type": "stream",
     "text": [
      "prediction of the image :  Pullover\n",
      "actual image :\n"
     ]
    },
    {
     "data": {
      "image/png": "[encoded data removed]",
      "text/plain": [
       "<Figure size 432x288 with 1 Axes>"
      ]
     },
     "metadata": {
      "needs_background": "light"
     },
     "output_type": "display_data"
    },
    {
     "name": "stdout",
     "output_type": "stream",
     "text": [
      "prediction of the image :  Pullover\n",
      "actual image :\n"
     ]
    },
    {
     "data": {
      "image/png": "[encoded data removed]",
      "text/plain": [
       "<Figure size 432x288 with 1 Axes>"
      ]
     },
     "metadata": {
      "needs_background": "light"
     },
     "output_type": "display_data"
    },
    {
     "name": "stdout",
     "output_type": "stream",
     "text": [
      "prediction of the image :  Dress\n",
      "actual image :\n"
     ]
    },
    {
     "data": {
      "image/png": "[encoded data removed]",
      "text/plain": [
       "<Figure size 432x288 with 1 Axes>"
      ]
     },
     "metadata": {
      "needs_background": "light"
     },
     "output_type": "display_data"
    }
   ],
   "source": [
    "for i in range(5):\n",
    "  print('prediction of the image : ',labels[y_pred[i]])\n",
    "  print('actual image :')\n",
    "  plt.imshow(X_test[i].reshape(28,28))\n",
    "  plt.show()"
   ]
  },
  {
   "cell_type": "markdown",
   "metadata": {
    "id": "dtpG2jDwP380",
    "papermill": {
     "duration": 1.634259,
     "end_time": "2020-12-05T11:55:34.726394",
     "exception": false,
     "start_time": "2020-12-05T11:55:33.092135",
     "status": "completed"
    },
    "tags": []
   },
   "source": [
    "So, the predictions are quite good. So, the model is quite effective to the dataset."
   ]
  },
  {
   "cell_type": "markdown",
   "metadata": {
    "id": "q6gkOhUcQBA_",
    "papermill": {
     "duration": 1.596981,
     "end_time": "2020-12-05T11:55:37.727554",
     "exception": false,
     "start_time": "2020-12-05T11:55:36.130573",
     "status": "completed"
    },
    "tags": []
   },
   "source": [
    "## Accuracy checking"
   ]
  },
  {
   "cell_type": "code",
   "execution_count": 30,
   "metadata": {
    "execution": {
     "iopub.execute_input": "2020-12-05T11:55:40.896419Z",
     "iopub.status.busy": "2020-12-05T11:55:40.895611Z",
     "iopub.status.idle": "2020-12-05T11:55:40.919134Z",
     "shell.execute_reply": "2020-12-05T11:55:40.919610Z"
    },
    "id": "wwHFsqxIaFCz",
    "outputId": "21333672-3bf9-4a36-be44-eaa4262028f8",
    "papermill": {
     "duration": 1.513868,
     "end_time": "2020-12-05T11:55:40.919745",
     "exception": false,
     "start_time": "2020-12-05T11:55:39.405877",
     "status": "completed"
    },
    "tags": []
   },
   "outputs": [
    {
     "data": {
      "text/plain": [
       "array([[861,   0,  16,  10,   0,   2, 106,   0,   5,   0],\n",
       "       [  3, 988,   1,   7,   0,   0,   1,   0,   0,   0],\n",
       "       [ 15,   1, 913,   8,  27,   0,  36,   0,   0,   0],\n",
       "       [ 10,   5,   7, 935,  19,   0,  24,   0,   0,   0],\n",
       "       [  2,   1,  56,  19, 879,   0,  43,   0,   0,   0],\n",
       "       [  0,   0,   0,   0,   0, 981,   0,  13,   1,   5],\n",
       "       [ 77,   1,  52,  19,  41,   0, 807,   0,   3,   0],\n",
       "       [  0,   0,   0,   0,   0,   3,   0, 963,   0,  34],\n",
       "       [  1,   0,   2,   1,   2,   2,   7,   1, 984,   0],\n",
       "       [  0,   0,   0,   0,   0,   1,   0,  22,   0, 977]])"
      ]
     },
     "execution_count": 30,
     "metadata": {},
     "output_type": "execute_result"
    }
   ],
   "source": [
    "mat=confusion_matrix(y_test,y_pred)\n",
    "mat"
   ]
  },
  {
   "cell_type": "code",
   "execution_count": 31,
   "metadata": {
    "execution": {
     "iopub.execute_input": "2020-12-05T11:55:44.336134Z",
     "iopub.status.busy": "2020-12-05T11:55:44.332177Z",
     "iopub.status.idle": "2020-12-05T11:55:44.672596Z",
     "shell.execute_reply": "2020-12-05T11:55:44.673078Z"
    },
    "id": "F0XxrJaQaQJ1",
    "outputId": "63256252-2212-4469-f924-882b1b39ac79",
    "papermill": {
     "duration": 2.116756,
     "end_time": "2020-12-05T11:55:44.673207",
     "exception": false,
     "start_time": "2020-12-05T11:55:42.556451",
     "status": "completed"
    },
    "tags": []
   },
   "outputs": [
    {
     "data": {
      "text/plain": [
       "(<Figure size 648x648 with 2 Axes>,\n",
       " <matplotlib.axes._subplots.AxesSubplot at 0x7f98cf06af50>)"
      ]
     },
     "execution_count": 31,
     "metadata": {},
     "output_type": "execute_result"
    },
    {
     "data": {
      "image/png": "[encoded data removed]",
      "text/plain": [
       "<Figure size 648x648 with 2 Axes>"
      ]
     },
     "metadata": {
      "needs_background": "light"
     },
     "output_type": "display_data"
    }
   ],
   "source": [
    "plot_confusion_matrix(mat,figsize=(9,9),colorbar=True)"
   ]
  },
  {
   "cell_type": "markdown",
   "metadata": {
    "id": "keHxXYokQKZz",
    "papermill": {
     "duration": 1.744729,
     "end_time": "2020-12-05T11:55:47.992128",
     "exception": false,
     "start_time": "2020-12-05T11:55:46.247399",
     "status": "completed"
    },
    "tags": []
   },
   "source": [
    "After plotting the confusion matrixes we can see that the model is well tuned for image classification of those fashion types.Moreover *Tshirt/top* quite resembles with *shirt* what actually should happen."
   ]
  },
  {
   "cell_type": "markdown",
   "metadata": {
    "id": "eIpbldlVQjJz",
    "papermill": {
     "duration": 1.631935,
     "end_time": "2020-12-05T11:55:50.962580",
     "exception": false,
     "start_time": "2020-12-05T11:55:49.330645",
     "status": "completed"
    },
    "tags": []
   },
   "source": [
    "### Hurrah ! We've completed a whole image classification project using CNN model with tensorflow framework :)\n",
    "\n",
    "#### UPVOTE if you like this kernel :)"
   ]
  },
  {
   "cell_type": "markdown",
   "metadata": {
    "id": "BgF0kW9jQyS-",
    "papermill": {
     "duration": 1.635142,
     "end_time": "2020-12-05T11:55:54.238214",
     "exception": false,
     "start_time": "2020-12-05T11:55:52.603072",
     "status": "completed"
    },
    "tags": []
   },
   "source": [
    "At last but not the least you can visit my other works on [github](https://github.com/sagnik1511?tab=repositories) , [Kaggle](https://www.kaggle.com/sagnik1511)"
   ]
  },
  {
   "cell_type": "markdown",
   "metadata": {
    "id": "NI0EQCk7RbXs",
    "papermill": {
     "duration": 1.662787,
     "end_time": "2020-12-05T11:55:57.574507",
     "exception": false,
     "start_time": "2020-12-05T11:55:55.911720",
     "status": "completed"
    },
    "tags": []
   },
   "source": [
    "***THANK YOU***"
   ]
  },
  {
   "cell_type": "markdown",
   "metadata": {
    "id": "qOX22ZD9a7oz",
    "papermill": {
     "duration": 1.685966,
     "end_time": "2020-12-05T11:56:00.996465",
     "exception": false,
     "start_time": "2020-12-05T11:55:59.310499",
     "status": "completed"
    },
    "tags": []
   },
   "source": [
    "# THE END"
   ]
  }
 ],
 "metadata": {
  "kernelspec": {
   "display_name": "Python 3",
   "language": "python",
   "name": "python3"
  },
  "language_info": {
   "codemirror_mode": {
    "name": "ipython",
    "version": 3
   },
   "file_extension": ".py",
   "mimetype": "text/x-python",
   "name": "python",
   "nbconvert_exporter": "python",
   "pygments_lexer": "ipython3",
   "version": "3.7.6"
  },
  "papermill": {
   "duration": 827.64693,
   "end_time": "2020-12-05T11:56:02.715605",
   "environment_variables": {},
   "exception": null,
   "input_path": "__notebook__.ipynb",
   "output_path": "__notebook__.ipynb",
   "parameters": {},
   "start_time": "2020-12-05T11:42:15.068675",
   "version": "2.1.0"
  }
 },
 "nbformat": 4,
 "nbformat_minor": 4
}
